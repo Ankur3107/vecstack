{
 "cells": [
  {
   "cell_type": "markdown",
   "metadata": {},
   "source": [
    "# Regression\n",
    "***"
   ]
  },
  {
   "cell_type": "markdown",
   "metadata": {},
   "source": [
    "# Import"
   ]
  },
  {
   "cell_type": "code",
   "execution_count": 1,
   "metadata": {},
   "outputs": [],
   "source": [
    "from sklearn.datasets import load_boston\n",
    "from sklearn.model_selection import train_test_split\n",
    "from sklearn.metrics import mean_absolute_error\n",
    "from sklearn.ensemble import ExtraTreesRegressor\n",
    "from sklearn.ensemble import RandomForestRegressor\n",
    "from xgboost import XGBRegressor\n",
    "from vecstack import stacking"
   ]
  },
  {
   "cell_type": "markdown",
   "metadata": {},
   "source": [
    "# Prepare data"
   ]
  },
  {
   "cell_type": "code",
   "execution_count": 2,
   "metadata": {},
   "outputs": [],
   "source": [
    "boston = load_boston()\n",
    "X, y = boston.data, boston.target\n",
    "\n",
    "# Make train/test split\n",
    "# As usual in machine learning task we have X_train, y_train, and X_test\n",
    "X_train, X_test, y_train, y_test = train_test_split(X, y, test_size=0.2, random_state=0)"
   ]
  },
  {
   "cell_type": "markdown",
   "metadata": {},
   "source": [
    "# Initialize 1st level models"
   ]
  },
  {
   "cell_type": "code",
   "execution_count": 3,
   "metadata": {},
   "outputs": [],
   "source": [
    "# Caution! All models and parameter values are just \n",
    "# demonstrational and shouldn't be considered as recommended.\n",
    "models = [\n",
    "    ExtraTreesRegressor(random_state=0, n_jobs=-1, \n",
    "                        n_estimators=100, max_depth=3),\n",
    "        \n",
    "    RandomForestRegressor(random_state=0, n_jobs=-1, \n",
    "                          n_estimators=100, max_depth=3),\n",
    "        \n",
    "    XGBRegressor(random_state=0, n_jobs=-1, learning_rate=0.1, \n",
    "                 n_estimators=100, max_depth=3)\n",
    "]"
   ]
  },
  {
   "cell_type": "markdown",
   "metadata": {},
   "source": [
    "# Perform stacking"
   ]
  },
  {
   "cell_type": "code",
   "execution_count": 4,
   "metadata": {},
   "outputs": [
    {
     "name": "stdout",
     "output_type": "stream",
     "text": [
      "task:       [regression]\n",
      "metric:     [mean_absolute_error]\n",
      "mode:       [oof_pred_bag]\n",
      "n_models:   [3]\n",
      "\n",
      "model 0:    [ExtraTreesRegressor]\n",
      "    fold 0: [3.20733439]\n",
      "    fold 1: [2.87943130]\n",
      "    fold 2: [2.53026486]\n",
      "    fold 3: [2.83618694]\n",
      "    ----\n",
      "    MEAN:   [2.86330437] + [0.23993093]\n",
      "    FULL:   [2.86330437]\n",
      "\n",
      "model 1:    [RandomForestRegressor]\n",
      "    fold 0: [3.11110485]\n",
      "    fold 1: [2.78404210]\n",
      "    fold 2: [2.55707729]\n",
      "    fold 3: [2.32209992]\n",
      "    ----\n",
      "    MEAN:   [2.69358104] + [0.29117900]\n",
      "    FULL:   [2.69358104]\n",
      "\n",
      "model 2:    [XGBRegressor]\n",
      "    fold 0: [2.40318942]\n",
      "    fold 1: [2.37286943]\n",
      "    fold 2: [1.89121526]\n",
      "    fold 3: [1.95382805]\n",
      "    ----\n",
      "    MEAN:   [2.15527554] + [0.23404984]\n",
      "    FULL:   [2.15527554]\n",
      "\n"
     ]
    }
   ],
   "source": [
    "S_train, S_test = stacking(models,                     # list of models\n",
    "                           X_train, y_train, X_test,   # data\n",
    "                           regression=True,            # regression task (if you need \n",
    "                                                       #     classification - set to False)\n",
    "                           mode='oof_pred_bag',        # mode: oof for train set, predict test \n",
    "                                                       #     set in each fold and find mean\n",
    "                           save_dir=None,              # do not save result and log (to save \n",
    "                                                       #     in current dir - set to '.')\n",
    "                           metric=mean_absolute_error, # metric: callable\n",
    "                           n_folds=4,                  # number of folds\n",
    "                           shuffle=True,               # shuffle the data\n",
    "                           random_state=0,             # ensure reproducibility\n",
    "                           verbose=2)                  # print all info"
   ]
  },
  {
   "cell_type": "markdown",
   "metadata": {},
   "source": [
    "# Look at the result\n",
    "\n",
    "So now we have OOF from 1st level models and we can build 2nd level model.  \n",
    "But first let's look at the result.  \n",
    "We have three 1st level models, so we expect to get three columns in `S_train` and `S_test`.  "
   ]
  },
  {
   "cell_type": "code",
   "execution_count": 5,
   "metadata": {},
   "outputs": [
    {
     "data": {
      "text/plain": [
       "array([[ 27.21782522,  28.23561508,  27.78520966],\n",
       "       [ 22.25443115,  22.32927929,  22.57203102],\n",
       "       [ 26.03879794,  25.80114661,  26.27923012],\n",
       "       [ 21.82927308,  21.30478775,  21.39201546],\n",
       "       [ 13.02143285,  12.04667683,   8.88440514]])"
      ]
     },
     "execution_count": 5,
     "metadata": {},
     "output_type": "execute_result"
    }
   ],
   "source": [
    "S_train[:5]"
   ]
  },
  {
   "cell_type": "code",
   "execution_count": 6,
   "metadata": {},
   "outputs": [
    {
     "data": {
      "text/plain": [
       "array([[ 24.89602382,  23.85490698,  24.85046005],\n",
       "       [ 20.85135955,  25.05068336,  26.30952454],\n",
       "       [ 23.13164045,  21.56864103,  23.67526102],\n",
       "       [ 13.47709586,  11.81606315,  11.02050447],\n",
       "       [ 21.93179664,  21.30652111,  21.75125122]])"
      ]
     },
     "execution_count": 6,
     "metadata": {},
     "output_type": "execute_result"
    }
   ],
   "source": [
    "S_test[:5]"
   ]
  },
  {
   "cell_type": "markdown",
   "metadata": {},
   "source": [
    "# Apply 2nd level model"
   ]
  },
  {
   "cell_type": "code",
   "execution_count": 7,
   "metadata": {},
   "outputs": [
    {
     "name": "stdout",
     "output_type": "stream",
     "text": [
      "Final prediction score: [2.78409081]\n"
     ]
    }
   ],
   "source": [
    "# Initialize 2nd level model\n",
    "model = XGBRegressor(random_state=0, n_jobs=-1, learning_rate=0.1, \n",
    "                     n_estimators=100, max_depth=3)\n",
    "    \n",
    "# Fit 2nd level model\n",
    "model = model.fit(S_train, y_train)\n",
    "\n",
    "# Predict\n",
    "y_pred = model.predict(S_test)\n",
    "\n",
    "# Final prediction score\n",
    "print('Final prediction score: [%.8f]' % mean_absolute_error(y_test, y_pred))"
   ]
  }
 ],
 "metadata": {
  "kernelspec": {
   "display_name": "Python 3",
   "language": "python",
   "name": "python3"
  },
  "language_info": {
   "codemirror_mode": {
    "name": "ipython",
    "version": 3
   },
   "file_extension": ".py",
   "mimetype": "text/x-python",
   "name": "python",
   "nbconvert_exporter": "python",
   "pygments_lexer": "ipython3",
   "version": "3.5.2"
  }
 },
 "nbformat": 4,
 "nbformat_minor": 2
}
